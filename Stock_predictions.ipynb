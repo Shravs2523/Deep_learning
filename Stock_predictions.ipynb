{
  "nbformat": 4,
  "nbformat_minor": 0,
  "metadata": {
    "colab": {
      "name": "AI_Stock_predictions.ipynb",
      "provenance": [],
      "include_colab_link": true
    },
    "kernelspec": {
      "name": "python3",
      "display_name": "Python 3"
    }
  },
  "cells": [
    {
      "cell_type": "markdown",
      "metadata": {
        "id": "view-in-github",
        "colab_type": "text"
      },
      "source": [
        "<a href=\"https://colab.research.google.com/github/Shravs2523/Deep_learning/blob/master/Stock_predictions.ipynb\" target=\"_parent\"><img src=\"https://colab.research.google.com/assets/colab-badge.svg\" alt=\"Open In Colab\"/></a>"
      ]
    },
    {
      "cell_type": "markdown",
      "metadata": {
        "id": "_qTK4Ajv3qRz",
        "colab_type": "text"
      },
      "source": [
        "In this Colab, we will use a keras Long Short-Term Memory (LSTM) model to predict the stock price of Tata Global Beverages\n"
      ]
    },
    {
      "cell_type": "markdown",
      "metadata": {
        "id": "rs-XEsB86weU",
        "colab_type": "text"
      },
      "source": [
        "Here are some imports we need to make: numpy for scientific computation, matplotlib for graphing, and pandas for manipulating data."
      ]
    },
    {
      "cell_type": "code",
      "metadata": {
        "id": "2SoQJk5BYOas",
        "colab_type": "code",
        "colab": {}
      },
      "source": [
        "import numpy as np\n",
        "import matplotlib.pyplot as plt\n",
        "import pandas as pd "
      ],
      "execution_count": 0,
      "outputs": []
    },
    {
      "cell_type": "markdown",
      "metadata": {
        "id": "BD3hdApP7gNi",
        "colab_type": "text"
      },
      "source": [
        "Load training data set with the \"Open\" and \"High\" columns to use in our modeling."
      ]
    },
    {
      "cell_type": "code",
      "metadata": {
        "id": "VU6ve06iDV5Q",
        "colab_type": "code",
        "outputId": "f1d561cc-e02b-4f3c-ae6e-fc190dfab935",
        "colab": {
          "base_uri": "https://localhost:8080/",
          "height": 34
        }
      },
      "source": [
        "url = 'https://raw.githubusercontent.com/mwitiderrick/stockprice/master/NSE-TATAGLOBAL.csv'\n",
        "dataset_train = pd.read_csv(url)\n",
        "print(dataset_train.shape)\n",
        "training_set = dataset_train.iloc[:, 1:2].values"
      ],
      "execution_count": 0,
      "outputs": [
        {
          "output_type": "stream",
          "text": [
            "(2035, 8)\n"
          ],
          "name": "stdout"
        }
      ]
    },
    {
      "cell_type": "markdown",
      "metadata": {
        "id": "RsLbMJ1072EY",
        "colab_type": "text"
      },
      "source": [
        "Let's take a look at the first five rows of our dataset"
      ]
    },
    {
      "cell_type": "code",
      "metadata": {
        "id": "AqiQMcfCLh6K",
        "colab_type": "code",
        "outputId": "9651bfd6-3fb2-4d06-a220-b029bd3497cb",
        "colab": {
          "base_uri": "https://localhost:8080/",
          "height": 204
        }
      },
      "source": [
        "dataset_train.head()"
      ],
      "execution_count": 0,
      "outputs": [
        {
          "output_type": "execute_result",
          "data": {
            "text/html": [
              "<div>\n",
              "<style scoped>\n",
              "    .dataframe tbody tr th:only-of-type {\n",
              "        vertical-align: middle;\n",
              "    }\n",
              "\n",
              "    .dataframe tbody tr th {\n",
              "        vertical-align: top;\n",
              "    }\n",
              "\n",
              "    .dataframe thead th {\n",
              "        text-align: right;\n",
              "    }\n",
              "</style>\n",
              "<table border=\"1\" class=\"dataframe\">\n",
              "  <thead>\n",
              "    <tr style=\"text-align: right;\">\n",
              "      <th></th>\n",
              "      <th>Date</th>\n",
              "      <th>Open</th>\n",
              "      <th>High</th>\n",
              "      <th>Low</th>\n",
              "      <th>Last</th>\n",
              "      <th>Close</th>\n",
              "      <th>Total Trade Quantity</th>\n",
              "      <th>Turnover (Lacs)</th>\n",
              "    </tr>\n",
              "  </thead>\n",
              "  <tbody>\n",
              "    <tr>\n",
              "      <th>0</th>\n",
              "      <td>2018-09-28</td>\n",
              "      <td>234.05</td>\n",
              "      <td>235.95</td>\n",
              "      <td>230.20</td>\n",
              "      <td>233.50</td>\n",
              "      <td>233.75</td>\n",
              "      <td>3069914</td>\n",
              "      <td>7162.35</td>\n",
              "    </tr>\n",
              "    <tr>\n",
              "      <th>1</th>\n",
              "      <td>2018-09-27</td>\n",
              "      <td>234.55</td>\n",
              "      <td>236.80</td>\n",
              "      <td>231.10</td>\n",
              "      <td>233.80</td>\n",
              "      <td>233.25</td>\n",
              "      <td>5082859</td>\n",
              "      <td>11859.95</td>\n",
              "    </tr>\n",
              "    <tr>\n",
              "      <th>2</th>\n",
              "      <td>2018-09-26</td>\n",
              "      <td>240.00</td>\n",
              "      <td>240.00</td>\n",
              "      <td>232.50</td>\n",
              "      <td>235.00</td>\n",
              "      <td>234.25</td>\n",
              "      <td>2240909</td>\n",
              "      <td>5248.60</td>\n",
              "    </tr>\n",
              "    <tr>\n",
              "      <th>3</th>\n",
              "      <td>2018-09-25</td>\n",
              "      <td>233.30</td>\n",
              "      <td>236.75</td>\n",
              "      <td>232.00</td>\n",
              "      <td>236.25</td>\n",
              "      <td>236.10</td>\n",
              "      <td>2349368</td>\n",
              "      <td>5503.90</td>\n",
              "    </tr>\n",
              "    <tr>\n",
              "      <th>4</th>\n",
              "      <td>2018-09-24</td>\n",
              "      <td>233.55</td>\n",
              "      <td>239.20</td>\n",
              "      <td>230.75</td>\n",
              "      <td>234.00</td>\n",
              "      <td>233.30</td>\n",
              "      <td>3423509</td>\n",
              "      <td>7999.55</td>\n",
              "    </tr>\n",
              "  </tbody>\n",
              "</table>\n",
              "</div>"
            ],
            "text/plain": [
              "         Date    Open    High  ...   Close  Total Trade Quantity  Turnover (Lacs)\n",
              "0  2018-09-28  234.05  235.95  ...  233.75               3069914          7162.35\n",
              "1  2018-09-27  234.55  236.80  ...  233.25               5082859         11859.95\n",
              "2  2018-09-26  240.00  240.00  ...  234.25               2240909          5248.60\n",
              "3  2018-09-25  233.30  236.75  ...  236.10               2349368          5503.90\n",
              "4  2018-09-24  233.55  239.20  ...  233.30               3423509          7999.55\n",
              "\n",
              "[5 rows x 8 columns]"
            ]
          },
          "metadata": {
            "tags": []
          },
          "execution_count": 3
        }
      ]
    },
    {
      "cell_type": "code",
      "metadata": {
        "id": "ZWRZvVxcdhNa",
        "colab_type": "code",
        "outputId": "5d39853d-8fdb-44b0-9298-93bd2f6cd944",
        "colab": {
          "base_uri": "https://localhost:8080/",
          "height": 136
        }
      },
      "source": [
        "training_set"
      ],
      "execution_count": 0,
      "outputs": [
        {
          "output_type": "execute_result",
          "data": {
            "text/plain": [
              "array([[234.05],\n",
              "       [234.55],\n",
              "       [240.  ],\n",
              "       ...,\n",
              "       [121.8 ],\n",
              "       [120.3 ],\n",
              "       [122.1 ]])"
            ]
          },
          "metadata": {
            "tags": []
          },
          "execution_count": 4
        }
      ]
    },
    {
      "cell_type": "markdown",
      "metadata": {
        "id": "ii6nZaDI7-20",
        "colab_type": "text"
      },
      "source": [
        "Import MinMaxScaler from scikit-learn to scale our dataset into numbers between 0 and 1 "
      ]
    },
    {
      "cell_type": "code",
      "metadata": {
        "id": "Ub32hsA4MIXz",
        "colab_type": "code",
        "outputId": "65187370-7170-4a95-bc3f-f17cf16265a6",
        "colab": {
          "base_uri": "https://localhost:8080/",
          "height": 153
        }
      },
      "source": [
        "from sklearn.preprocessing import MinMaxScaler\n",
        "sc = MinMaxScaler(feature_range=(0,1))\n",
        "training_set_scaled = sc.fit_transform(training_set)\n",
        "print(training_set_scaled)\n",
        "print(training_set_scaled.shape)"
      ],
      "execution_count": 0,
      "outputs": [
        {
          "output_type": "stream",
          "text": [
            "[[0.6202352 ]\n",
            " [0.62226277]\n",
            " [0.64436334]\n",
            " ...\n",
            " [0.16504461]\n",
            " [0.15896188]\n",
            " [0.16626115]]\n",
            "(2035, 1)\n"
          ],
          "name": "stdout"
        }
      ]
    },
    {
      "cell_type": "markdown",
      "metadata": {
        "id": "aqze-4Is8Rb_",
        "colab_type": "text"
      },
      "source": [
        "We want our data to be in the form of a 3D array for our LSTM model. First, we create data in 60 timesteps and convert it into an array using NumPy. Then, we convert the data into a 3D array with X_train samples, 60 timestamps, and one feature at each step."
      ]
    },
    {
      "cell_type": "code",
      "metadata": {
        "id": "qo7K06T2Mi_e",
        "colab_type": "code",
        "outputId": "080c0f9f-a6a0-4395-abbf-5b14e1d3dc24",
        "colab": {
          "base_uri": "https://localhost:8080/",
          "height": 34
        }
      },
      "source": [
        "X_train = []\n",
        "y_train = []\n",
        "for i in range(60, 2035):\n",
        "    X_train.append(training_set_scaled[i-60:i, 0])\n",
        "    y_train.append(training_set_scaled[i, 0])\n",
        "    #len(y_train)\n",
        "X_train, y_train = np.array(X_train), np.array(y_train)\n",
        "print(X_train.shape)\n",
        "X_train = np.reshape(X_train, (X_train.shape[0], X_train.shape[1], 1))\n",
        "#print(X_train)"
      ],
      "execution_count": 0,
      "outputs": [
        {
          "output_type": "stream",
          "text": [
            "(1975, 60)\n"
          ],
          "name": "stdout"
        }
      ]
    },
    {
      "cell_type": "markdown",
      "metadata": {
        "id": "anIlTzKO-r74",
        "colab_type": "text"
      },
      "source": [
        "Make the necessary imports from keras"
      ]
    },
    {
      "cell_type": "code",
      "metadata": {
        "id": "TP9GVtb9Q-C9",
        "colab_type": "code",
        "outputId": "2e70a1d2-3e0d-45fe-9862-f309d5273b0f",
        "colab": {
          "base_uri": "https://localhost:8080/",
          "height": 80
        }
      },
      "source": [
        "from keras.models import Sequential\n",
        "from keras.layers import LSTM\n",
        "from keras.layers import Dropout\n",
        "from keras.layers import Dense "
      ],
      "execution_count": 0,
      "outputs": [
        {
          "output_type": "stream",
          "text": [
            "Using TensorFlow backend.\n"
          ],
          "name": "stderr"
        },
        {
          "output_type": "display_data",
          "data": {
            "text/html": [
              "<p style=\"color: red;\">\n",
              "The default version of TensorFlow in Colab will soon switch to TensorFlow 2.x.<br>\n",
              "We recommend you <a href=\"https://www.tensorflow.org/guide/migrate\" target=\"_blank\">upgrade</a> now \n",
              "or ensure your notebook will continue to use TensorFlow 1.x via the <code>%tensorflow_version 1.x</code> magic:\n",
              "<a href=\"https://colab.research.google.com/notebooks/tensorflow_version.ipynb\" target=\"_blank\">more info</a>.</p>\n"
            ],
            "text/plain": [
              "<IPython.core.display.HTML object>"
            ]
          },
          "metadata": {
            "tags": []
          }
        }
      ]
    },
    {
      "cell_type": "markdown",
      "metadata": {
        "id": "hJrFWnOd-x2t",
        "colab_type": "text"
      },
      "source": [
        "Add LSTM layer along with dropout layers to prevent overfitting. After that, we add a Dense layer that specifies a one unit output. Next, we compile the model using the adam optimizer and set the loss as the mean_squarred_error"
      ]
    },
    {
      "cell_type": "code",
      "metadata": {
        "id": "CMKVOwBnRcOc",
        "colab_type": "code",
        "outputId": "5b7ce82f-1514-4693-d8c3-60583d7eb737",
        "colab": {
          "base_uri": "https://localhost:8080/",
          "height": 1000
        }
      },
      "source": [
        "model = Sequential()\n",
        "\n",
        "model.add(LSTM(units=50,return_sequences=True,input_shape=(X_train.shape[1], 1)))\n",
        "model.add(Dropout(0.2))\n",
        "\n",
        "model.add(LSTM(units=50,return_sequences=True))\n",
        "model.add(Dropout(0.2))\n",
        "\n",
        "model.add(LSTM(units=50,return_sequences=True))\n",
        "model.add(Dropout(0.2))\n",
        "\n",
        "model.add(LSTM(units=50))\n",
        "model.add(Dropout(0.2))\n",
        "\n",
        "model.add(Dense(units=1))\n",
        "\n",
        "model.compile(optimizer='adam',loss='mean_squared_error')\n",
        "\n",
        "model.fit(X_train,y_train,epochs=100,batch_size=32)"
      ],
      "execution_count": 0,
      "outputs": [
        {
          "output_type": "stream",
          "text": [
            "WARNING:tensorflow:From /usr/local/lib/python3.6/dist-packages/keras/backend/tensorflow_backend.py:66: The name tf.get_default_graph is deprecated. Please use tf.compat.v1.get_default_graph instead.\n",
            "\n",
            "WARNING:tensorflow:From /usr/local/lib/python3.6/dist-packages/keras/backend/tensorflow_backend.py:541: The name tf.placeholder is deprecated. Please use tf.compat.v1.placeholder instead.\n",
            "\n",
            "WARNING:tensorflow:From /usr/local/lib/python3.6/dist-packages/keras/backend/tensorflow_backend.py:4432: The name tf.random_uniform is deprecated. Please use tf.random.uniform instead.\n",
            "\n",
            "WARNING:tensorflow:From /usr/local/lib/python3.6/dist-packages/keras/backend/tensorflow_backend.py:148: The name tf.placeholder_with_default is deprecated. Please use tf.compat.v1.placeholder_with_default instead.\n",
            "\n",
            "WARNING:tensorflow:From /usr/local/lib/python3.6/dist-packages/keras/backend/tensorflow_backend.py:3733: calling dropout (from tensorflow.python.ops.nn_ops) with keep_prob is deprecated and will be removed in a future version.\n",
            "Instructions for updating:\n",
            "Please use `rate` instead of `keep_prob`. Rate should be set to `rate = 1 - keep_prob`.\n",
            "WARNING:tensorflow:From /usr/local/lib/python3.6/dist-packages/keras/optimizers.py:793: The name tf.train.Optimizer is deprecated. Please use tf.compat.v1.train.Optimizer instead.\n",
            "\n",
            "WARNING:tensorflow:From /usr/local/lib/python3.6/dist-packages/tensorflow_core/python/ops/math_grad.py:1424: where (from tensorflow.python.ops.array_ops) is deprecated and will be removed in a future version.\n",
            "Instructions for updating:\n",
            "Use tf.where in 2.0, which has the same broadcast rule as np.where\n",
            "WARNING:tensorflow:From /usr/local/lib/python3.6/dist-packages/keras/backend/tensorflow_backend.py:1033: The name tf.assign_add is deprecated. Please use tf.compat.v1.assign_add instead.\n",
            "\n",
            "WARNING:tensorflow:From /usr/local/lib/python3.6/dist-packages/keras/backend/tensorflow_backend.py:1020: The name tf.assign is deprecated. Please use tf.compat.v1.assign instead.\n",
            "\n",
            "WARNING:tensorflow:From /usr/local/lib/python3.6/dist-packages/keras/backend/tensorflow_backend.py:3005: The name tf.Session is deprecated. Please use tf.compat.v1.Session instead.\n",
            "\n",
            "Epoch 1/100\n",
            "WARNING:tensorflow:From /usr/local/lib/python3.6/dist-packages/keras/backend/tensorflow_backend.py:190: The name tf.get_default_session is deprecated. Please use tf.compat.v1.get_default_session instead.\n",
            "\n",
            "WARNING:tensorflow:From /usr/local/lib/python3.6/dist-packages/keras/backend/tensorflow_backend.py:197: The name tf.ConfigProto is deprecated. Please use tf.compat.v1.ConfigProto instead.\n",
            "\n",
            "WARNING:tensorflow:From /usr/local/lib/python3.6/dist-packages/keras/backend/tensorflow_backend.py:207: The name tf.global_variables is deprecated. Please use tf.compat.v1.global_variables instead.\n",
            "\n",
            "WARNING:tensorflow:From /usr/local/lib/python3.6/dist-packages/keras/backend/tensorflow_backend.py:216: The name tf.is_variable_initialized is deprecated. Please use tf.compat.v1.is_variable_initialized instead.\n",
            "\n",
            "WARNING:tensorflow:From /usr/local/lib/python3.6/dist-packages/keras/backend/tensorflow_backend.py:223: The name tf.variables_initializer is deprecated. Please use tf.compat.v1.variables_initializer instead.\n",
            "\n",
            "1975/1975 [==============================] - 14s 7ms/step - loss: 0.0125\n",
            "Epoch 2/100\n",
            "1975/1975 [==============================] - 12s 6ms/step - loss: 0.0027\n",
            "Epoch 3/100\n",
            "1975/1975 [==============================] - 12s 6ms/step - loss: 0.0028\n",
            "Epoch 4/100\n",
            "1975/1975 [==============================] - 12s 6ms/step - loss: 0.0025\n",
            "Epoch 5/100\n",
            "1975/1975 [==============================] - 12s 6ms/step - loss: 0.0025\n",
            "Epoch 6/100\n",
            "1975/1975 [==============================] - 12s 6ms/step - loss: 0.0020\n",
            "Epoch 7/100\n",
            "1975/1975 [==============================] - 12s 6ms/step - loss: 0.0023\n",
            "Epoch 8/100\n",
            "1975/1975 [==============================] - 12s 6ms/step - loss: 0.0020\n",
            "Epoch 9/100\n",
            "1975/1975 [==============================] - 12s 6ms/step - loss: 0.0021\n",
            "Epoch 10/100\n",
            "1975/1975 [==============================] - 12s 6ms/step - loss: 0.0021\n",
            "Epoch 11/100\n",
            "1975/1975 [==============================] - 12s 6ms/step - loss: 0.0019\n",
            "Epoch 12/100\n",
            "1975/1975 [==============================] - 12s 6ms/step - loss: 0.0017\n",
            "Epoch 13/100\n",
            "1975/1975 [==============================] - 12s 6ms/step - loss: 0.0019\n",
            "Epoch 14/100\n",
            "1975/1975 [==============================] - 12s 6ms/step - loss: 0.0016\n",
            "Epoch 15/100\n",
            "1975/1975 [==============================] - 12s 6ms/step - loss: 0.0017\n",
            "Epoch 16/100\n",
            "1975/1975 [==============================] - 12s 6ms/step - loss: 0.0016\n",
            "Epoch 17/100\n",
            "1975/1975 [==============================] - 12s 6ms/step - loss: 0.0015\n",
            "Epoch 18/100\n",
            "1975/1975 [==============================] - 12s 6ms/step - loss: 0.0016\n",
            "Epoch 19/100\n",
            "1975/1975 [==============================] - 12s 6ms/step - loss: 0.0013\n",
            "Epoch 20/100\n",
            "1975/1975 [==============================] - 12s 6ms/step - loss: 0.0013\n",
            "Epoch 21/100\n",
            "1975/1975 [==============================] - 12s 6ms/step - loss: 0.0013\n",
            "Epoch 22/100\n",
            "1975/1975 [==============================] - 12s 6ms/step - loss: 0.0013\n",
            "Epoch 23/100\n",
            "1975/1975 [==============================] - 12s 6ms/step - loss: 0.0013\n",
            "Epoch 24/100\n",
            "1975/1975 [==============================] - 12s 6ms/step - loss: 0.0014\n",
            "Epoch 25/100\n",
            "1975/1975 [==============================] - 12s 6ms/step - loss: 0.0013\n",
            "Epoch 26/100\n",
            "1975/1975 [==============================] - 12s 6ms/step - loss: 0.0011\n",
            "Epoch 27/100\n",
            "1975/1975 [==============================] - 12s 6ms/step - loss: 0.0010\n",
            "Epoch 28/100\n",
            "1975/1975 [==============================] - 12s 6ms/step - loss: 0.0013\n",
            "Epoch 29/100\n",
            "1975/1975 [==============================] - 12s 6ms/step - loss: 0.0011\n",
            "Epoch 30/100\n",
            "1975/1975 [==============================] - 12s 6ms/step - loss: 0.0011\n",
            "Epoch 31/100\n",
            "1975/1975 [==============================] - 12s 6ms/step - loss: 0.0012\n",
            "Epoch 32/100\n",
            "1975/1975 [==============================] - 12s 6ms/step - loss: 0.0011\n",
            "Epoch 33/100\n",
            "1975/1975 [==============================] - 12s 6ms/step - loss: 0.0010\n",
            "Epoch 34/100\n",
            "1975/1975 [==============================] - 12s 6ms/step - loss: 0.0011\n",
            "Epoch 35/100\n",
            "1975/1975 [==============================] - 12s 6ms/step - loss: 0.0012\n",
            "Epoch 36/100\n",
            "1975/1975 [==============================] - 12s 6ms/step - loss: 0.0011\n",
            "Epoch 37/100\n",
            "1975/1975 [==============================] - 12s 6ms/step - loss: 9.4172e-04\n",
            "Epoch 38/100\n",
            "1975/1975 [==============================] - 12s 6ms/step - loss: 0.0011\n",
            "Epoch 39/100\n",
            "1975/1975 [==============================] - 12s 6ms/step - loss: 0.0011\n",
            "Epoch 40/100\n",
            "1975/1975 [==============================] - 12s 6ms/step - loss: 8.8506e-04\n",
            "Epoch 41/100\n",
            "1975/1975 [==============================] - 12s 6ms/step - loss: 9.4434e-04\n",
            "Epoch 42/100\n",
            "1975/1975 [==============================] - 12s 6ms/step - loss: 9.4330e-04\n",
            "Epoch 43/100\n",
            "1975/1975 [==============================] - 12s 6ms/step - loss: 8.4196e-04\n",
            "Epoch 44/100\n",
            "1975/1975 [==============================] - 12s 6ms/step - loss: 7.8533e-04\n",
            "Epoch 45/100\n",
            "1975/1975 [==============================] - 12s 6ms/step - loss: 0.0010\n",
            "Epoch 46/100\n",
            "1975/1975 [==============================] - 12s 6ms/step - loss: 8.6225e-04\n",
            "Epoch 47/100\n",
            "1975/1975 [==============================] - 12s 6ms/step - loss: 9.2793e-04\n",
            "Epoch 48/100\n",
            "1975/1975 [==============================] - 12s 6ms/step - loss: 9.1358e-04\n",
            "Epoch 49/100\n",
            "1975/1975 [==============================] - 12s 6ms/step - loss: 0.0011\n",
            "Epoch 50/100\n",
            "1975/1975 [==============================] - 12s 6ms/step - loss: 8.7576e-04\n",
            "Epoch 51/100\n",
            "1975/1975 [==============================] - 12s 6ms/step - loss: 8.6704e-04\n",
            "Epoch 52/100\n",
            "1975/1975 [==============================] - 12s 6ms/step - loss: 9.2051e-04\n",
            "Epoch 53/100\n",
            "1975/1975 [==============================] - 12s 6ms/step - loss: 7.9329e-04\n",
            "Epoch 54/100\n",
            "1975/1975 [==============================] - 12s 6ms/step - loss: 9.4121e-04\n",
            "Epoch 55/100\n",
            "1975/1975 [==============================] - 12s 6ms/step - loss: 8.7817e-04\n",
            "Epoch 56/100\n",
            "1975/1975 [==============================] - 12s 6ms/step - loss: 8.4139e-04\n",
            "Epoch 57/100\n",
            "1975/1975 [==============================] - 12s 6ms/step - loss: 8.1033e-04\n",
            "Epoch 58/100\n",
            "1975/1975 [==============================] - 12s 6ms/step - loss: 7.0355e-04\n",
            "Epoch 59/100\n",
            "1975/1975 [==============================] - 12s 6ms/step - loss: 7.4576e-04\n",
            "Epoch 60/100\n",
            "1975/1975 [==============================] - 12s 6ms/step - loss: 8.1440e-04\n",
            "Epoch 61/100\n",
            "1975/1975 [==============================] - 12s 6ms/step - loss: 7.8476e-04\n",
            "Epoch 62/100\n",
            "1975/1975 [==============================] - 12s 6ms/step - loss: 7.5904e-04\n",
            "Epoch 63/100\n",
            "1975/1975 [==============================] - 12s 6ms/step - loss: 8.5041e-04\n",
            "Epoch 64/100\n",
            "1975/1975 [==============================] - 12s 6ms/step - loss: 7.7514e-04\n",
            "Epoch 65/100\n",
            "1975/1975 [==============================] - 12s 6ms/step - loss: 8.8477e-04\n",
            "Epoch 66/100\n",
            "1975/1975 [==============================] - 12s 6ms/step - loss: 6.8581e-04\n",
            "Epoch 67/100\n",
            "1975/1975 [==============================] - 12s 6ms/step - loss: 6.9808e-04\n",
            "Epoch 68/100\n",
            "1975/1975 [==============================] - 12s 6ms/step - loss: 7.4231e-04\n",
            "Epoch 69/100\n",
            "1975/1975 [==============================] - 12s 6ms/step - loss: 7.3815e-04\n",
            "Epoch 70/100\n",
            "1975/1975 [==============================] - 12s 6ms/step - loss: 7.5088e-04\n",
            "Epoch 71/100\n",
            "1975/1975 [==============================] - 12s 6ms/step - loss: 7.6595e-04\n",
            "Epoch 72/100\n",
            "1975/1975 [==============================] - 12s 6ms/step - loss: 6.8158e-04\n",
            "Epoch 73/100\n",
            "1975/1975 [==============================] - 12s 6ms/step - loss: 6.9326e-04\n",
            "Epoch 74/100\n",
            "1975/1975 [==============================] - 12s 6ms/step - loss: 6.1146e-04\n",
            "Epoch 75/100\n",
            "1975/1975 [==============================] - 12s 6ms/step - loss: 8.2408e-04\n",
            "Epoch 76/100\n",
            "1975/1975 [==============================] - 12s 6ms/step - loss: 7.1598e-04\n",
            "Epoch 77/100\n",
            "1975/1975 [==============================] - 12s 6ms/step - loss: 6.7292e-04\n",
            "Epoch 78/100\n",
            "1975/1975 [==============================] - 12s 6ms/step - loss: 7.3166e-04\n",
            "Epoch 79/100\n",
            "1975/1975 [==============================] - 12s 6ms/step - loss: 7.6574e-04\n",
            "Epoch 80/100\n",
            "1975/1975 [==============================] - 12s 6ms/step - loss: 5.9884e-04\n",
            "Epoch 81/100\n",
            "1975/1975 [==============================] - 12s 6ms/step - loss: 7.7396e-04\n",
            "Epoch 82/100\n",
            "1975/1975 [==============================] - 12s 6ms/step - loss: 7.5380e-04\n",
            "Epoch 83/100\n",
            "1975/1975 [==============================] - 12s 6ms/step - loss: 6.2883e-04\n",
            "Epoch 84/100\n",
            "1975/1975 [==============================] - 12s 6ms/step - loss: 7.2691e-04\n",
            "Epoch 85/100\n",
            "1975/1975 [==============================] - 12s 6ms/step - loss: 5.9080e-04\n",
            "Epoch 86/100\n",
            "1975/1975 [==============================] - 12s 6ms/step - loss: 6.7583e-04\n",
            "Epoch 87/100\n",
            "1975/1975 [==============================] - 12s 6ms/step - loss: 7.5465e-04\n",
            "Epoch 88/100\n",
            "1975/1975 [==============================] - 12s 6ms/step - loss: 7.5492e-04\n",
            "Epoch 89/100\n",
            "1975/1975 [==============================] - 12s 6ms/step - loss: 6.9258e-04\n",
            "Epoch 90/100\n",
            "1975/1975 [==============================] - 12s 6ms/step - loss: 7.3892e-04\n",
            "Epoch 91/100\n",
            "1975/1975 [==============================] - 12s 6ms/step - loss: 6.2079e-04\n",
            "Epoch 92/100\n",
            "1975/1975 [==============================] - 12s 6ms/step - loss: 6.7082e-04\n",
            "Epoch 93/100\n",
            "1975/1975 [==============================] - 12s 6ms/step - loss: 6.1875e-04\n",
            "Epoch 94/100\n",
            "1975/1975 [==============================] - 12s 6ms/step - loss: 5.9223e-04\n",
            "Epoch 95/100\n",
            "1975/1975 [==============================] - 12s 6ms/step - loss: 7.0015e-04\n",
            "Epoch 96/100\n",
            "1975/1975 [==============================] - 12s 6ms/step - loss: 6.2947e-04\n",
            "Epoch 97/100\n",
            "1975/1975 [==============================] - 12s 6ms/step - loss: 6.6464e-04\n",
            "Epoch 98/100\n",
            "1975/1975 [==============================] - 12s 6ms/step - loss: 6.4328e-04\n",
            "Epoch 99/100\n",
            "1975/1975 [==============================] - 12s 6ms/step - loss: 5.8845e-04\n",
            "Epoch 100/100\n",
            "1975/1975 [==============================] - 12s 6ms/step - loss: 6.9816e-04\n"
          ],
          "name": "stdout"
        },
        {
          "output_type": "execute_result",
          "data": {
            "text/plain": [
              "<keras.callbacks.History at 0x7f8a405eafd0>"
            ]
          },
          "metadata": {
            "tags": []
          },
          "execution_count": 8
        }
      ]
    },
    {
      "cell_type": "markdown",
      "metadata": {
        "id": "N7_w_7x-A44v",
        "colab_type": "text"
      },
      "source": [
        "Import the test set for the model to make predictions on "
      ]
    },
    {
      "cell_type": "code",
      "metadata": {
        "id": "ns2TngWrUaz5",
        "colab_type": "code",
        "colab": {}
      },
      "source": [
        "url = 'https://raw.githubusercontent.com/mwitiderrick/stockprice/master/tatatest.csv'\n",
        "dataset_test = pd.read_csv(url)\n",
        "real_stock_price = dataset_test.iloc[:, 1:2].values"
      ],
      "execution_count": 0,
      "outputs": []
    },
    {
      "cell_type": "markdown",
      "metadata": {
        "id": "WXGKvoo6BAyd",
        "colab_type": "text"
      },
      "source": [
        "Before predicting future stock prices, we have to manipulate the training set; we merge the training set and the test set on the 0 axis, set the time step to 60, use minmaxscaler, and reshape the dataset as done previously. After making predictions, we use inverse_transform to get back the stock prices in normal readable format.\n"
      ]
    },
    {
      "cell_type": "code",
      "metadata": {
        "id": "pBbdst_BV_PB",
        "colab_type": "code",
        "colab": {}
      },
      "source": [
        "dataset_total = pd.concat((dataset_train['Open'], dataset_test['Open']), axis = 0)\n",
        "inputs = dataset_total[len(dataset_total) - len(dataset_test) - 60:].values\n",
        "inputs = inputs.reshape(-1,1)\n",
        "inputs = sc.transform(inputs)\n",
        "X_test = []\n",
        "for i in range(60, 76):\n",
        "    X_test.append(inputs[i-60:i, 0])\n",
        "X_test = np.array(X_test)\n",
        "X_test = np.reshape(X_test, (X_test.shape[0], X_test.shape[1], 1))\n",
        "predicted_stock_price = model.predict(X_test)\n",
        "predicted_stock_price = sc.inverse_transform(predicted_stock_price)"
      ],
      "execution_count": 0,
      "outputs": []
    },
    {
      "cell_type": "markdown",
      "metadata": {
        "id": "BAj_a3n0B3nz",
        "colab_type": "text"
      },
      "source": [
        "Plot our predicted stock prices and the actual stock price"
      ]
    },
    {
      "cell_type": "code",
      "metadata": {
        "id": "czWvnIANYSqI",
        "colab_type": "code",
        "outputId": "7d4cb7e0-0ec3-4ed8-9194-bc85fa59e889",
        "colab": {
          "base_uri": "https://localhost:8080/",
          "height": 295
        }
      },
      "source": [
        "plt.plot(real_stock_price, color = 'black', label = 'TATA Stock Price')\n",
        "plt.plot(predicted_stock_price, color = 'green', label = 'Predicted TATA Stock Price')\n",
        "plt.title('TATA Stock Price Prediction')\n",
        "plt.xlabel('Time')\n",
        "plt.ylabel('TATA Stock Price')\n",
        "plt.legend()\n",
        "plt.show()"
      ],
      "execution_count": 0,
      "outputs": [
        {
          "output_type": "display_data",
          "data": {
            "image/png": "[encoded data removed]",
            "text/plain": [
              "<Figure size 432x288 with 1 Axes>"
            ]
          },
          "metadata": {
            "tags": []
          }
        }
      ]
    }
  ]
}